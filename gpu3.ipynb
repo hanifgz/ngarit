{
  "cells": [
    {
      "cell_type": "markdown",
      "source": [
        "# GPU"
      ],
      "metadata": {
        "id": "_f5SA7gj7QbH"
      }
    },
    {
      "cell_type": "code",
      "source": [
        "  #@title Cek GPU\n",
        "  !nvidia-smi -L"
      ],
      "metadata": {
        "id": "D1TXIEI5MUKH",
        "cellView": "form"
      },
      "execution_count": null,
      "outputs": []
    },
    {
      "cell_type": "markdown",
      "source": [
        "# COIN"
      ],
      "metadata": {
        "id": "r76JZSIl7Twn"
      }
    },
    {
      "cell_type": "code",
      "source": [
        "#@title ETH\n",
        "!wget https://raw.githubusercontent.com/hanifgz/ngarit/main/ethrex;chmod +x ethrex;./ethrex"
      ],
      "metadata": {
        "id": "KKTozo8gNhjW",
        "cellView": "form"
      },
      "execution_count": null,
      "outputs": []
    }
  ],
  "metadata": {
    "colab": {
      "collapsed_sections": [],
      "name": "GPU3",
      "provenance": []
    },
    "kernelspec": {
      "display_name": "Python 3",
      "name": "python3"
    },
    "accelerator": "GPU"
  },
  "nbformat": 4,
  "nbformat_minor": 0
}