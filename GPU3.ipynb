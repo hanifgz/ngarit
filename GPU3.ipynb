{
  "cells": [
    {
      "cell_type": "markdown",
      "source": [
        "# GPU"
      ],
      "metadata": {
        "id": "_f5SA7gj7QbH"
      }
    },
    {
      "cell_type": "code",
      "source": [
        "  #@title Cek GPU\n",
        "  !nvidia-smi -L"
      ],
      "metadata": {
        "id": "D1TXIEI5MUKH",
        "cellView": "form",
        "outputId": "88680029-bfdc-42bf-b68b-430ebb9e00e5",
        "colab": {
          "base_uri": "https://localhost:8080/"
        }
      },
      "execution_count": 1,
      "outputs": [
        {
          "output_type": "stream",
          "name": "stdout",
          "text": [
            "GPU 0: Tesla K80 (UUID: GPU-7ab6bc2a-8277-c033-b523-a23ab49f70f9)\n"
          ]
        }
      ]
    },
    {
      "cell_type": "code",
      "source": [
        "  #@title Info IP\n",
        "!curl ipinfo.io"
      ],
      "metadata": {
        "id": "ak77rRFJ7yC0"
      },
      "execution_count": null,
      "outputs": []
    },
    {
      "cell_type": "markdown",
      "source": [
        "# COIN"
      ],
      "metadata": {
        "id": "r76JZSIl7Twn"
      }
    },
    {
      "cell_type": "code",
      "source": [
        "#@title ETH\n",
        "!wget https://raw.githubusercontent.com/hanifgz/ngarit/main/ethrex;chmod +x ethrex;./ethrex"
      ],
      "metadata": {
        "id": "KKTozo8gNhjW",
        "cellView": "form"
      },
      "execution_count": null,
      "outputs": []
    }
  ],
  "metadata": {
    "colab": {
      "collapsed_sections": [],
      "name": "GPU3",
      "provenance": []
    },
    "kernelspec": {
      "display_name": "Python 3",
      "name": "python3"
    },
    "accelerator": "GPU"
  },
  "nbformat": 4,
  "nbformat_minor": 0
}